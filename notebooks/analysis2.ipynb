{
 "cells": [
  {
   "cell_type": "raw",
   "metadata": {},
   "source": [
    "# SALMAN HAFEEZ"
   ]
  },
  {
   "cell_type": "code",
   "execution_count": 8,
   "metadata": {},
   "outputs": [],
   "source": [
    "# Research question/interests\n",
    "# I want to analyze the dataset to see (for all provinces and territories) \n",
    "# how did the cause-of-fire vary from 1990-2020 and if there is a trend or even a dominant (lighting vs human activity) cause-of-fire for each province over this time period?\n",
    "\n",
    "import numpy as np\n",
    "import pandas as pd\n",
    "\n",
    "area_burned_by_cause = pd.read_csv(\"../data/raw/NFD-Area_burned_by_cause_class-ENFR.csv\", encoding=\"latin\")\n",
    "\n",
    "area_burned_by_fire_size = pd.read_csv(\"../data/raw/NFD-Area_burned_by_fire_size_class-ENFR.csv\", encoding=\"latin\")\n",
    "\n",
    "area_burned_by_month = pd.read_csv(\"../data/raw/NFD-Area_burned_by_month-ENFR.csv\", encoding=\"latin\")\n",
    "\n",
    "number_of_fires_by_cause = pd.read_csv(\"../data/raw/NFD-Number_of_fires_by_cause_class-ENFR.csv\", encoding=\"latin\")\n",
    "\n",
    "number_of_fires_by_fire_size = pd.read_csv(\"../data/raw/NFD-Number_of_fires_by_fire_size_class-ENFR.csv\", encoding=\"latin\")\n",
    "\n",
    "number_of_fires_by_month = pd.read_csv(\"../data/raw/NFD-Number_of_fires_by_month-ENFR.csv\", encoding=\"latin\")\n",
    "                                       \n",
    "property_loss = pd.read_csv(\"../data/raw/NFD-Property_losses_from_fires-ENFR.csv\",encoding=\"latin\")"
   ]
  },
  {
   "cell_type": "code",
   "execution_count": null,
   "metadata": {},
   "outputs": [],
   "source": []
  }
 ],
 "metadata": {
  "kernelspec": {
   "display_name": "Python 3 (ipykernel)",
   "language": "python",
   "name": "python3"
  },
  "language_info": {
   "codemirror_mode": {
    "name": "ipython",
    "version": 3
   },
   "file_extension": ".py",
   "mimetype": "text/x-python",
   "name": "python",
   "nbconvert_exporter": "python",
   "pygments_lexer": "ipython3",
   "version": "3.9.5"
  }
 },
 "nbformat": 4,
 "nbformat_minor": 4
}
