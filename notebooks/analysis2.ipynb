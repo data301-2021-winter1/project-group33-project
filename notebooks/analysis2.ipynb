{
 "cells": [
  {
   "cell_type": "markdown",
   "metadata": {},
   "source": [
    "# SALMAN HAFEEZ"
   ]
  },
  {
   "cell_type": "code",
   "execution_count": null,
   "metadata": {},
   "outputs": [],
   "source": [
    "# Research question/interests\n",
    "# I want to analyze the dataset to see (for all provinces and territories) \n",
    "# how did the cause-of-fire vary from 1990-2020 and if there is a trend or even a dominant (lighting vs human activity) cause-of-fire for each province over this time period?\n",
    "\n",
    "import numpy as np\n",
    "import pandas as pd\n",
    "import matplotlib.pylab as plt\n",
    "import seaborn as sns\n",
    "\n",
    "area_burned_by_cause = pd.read_csv(\"../data/raw/NFD-Area_burned_by_cause_class-ENFR.csv\", encoding=\"latin\")\n",
    "\n",
    "area_burned_by_fire_size = pd.read_csv(\"../data/raw/NFD-Area_burned_by_fire_size_class-ENFR.csv\", encoding=\"latin\")\n",
    "\n",
    "area_burned_by_month = pd.read_csv(\"../data/raw/NFD-Area_burned_by_month-ENFR.csv\", encoding=\"latin\")\n",
    "\n",
    "number_of_fires_by_cause = pd.read_csv(\"../data/raw/NFD-Number_of_fires_by_cause_class-ENFR.csv\", encoding=\"latin\")\n",
    "\n",
    "number_of_fires_by_fire_size = pd.read_csv(\"../data/raw/NFD-Number_of_fires_by_fire_size_class-ENFR.csv\", encoding=\"latin\")\n",
    "\n",
    "number_of_fires_by_month = pd.read_csv(\"../data/raw/NFD-Number_of_fires_by_month-ENFR.csv\", encoding=\"latin\")\n",
    "                                       \n",
    "# property_loss = pd.read_csv(\"../data/raw/NFD-Property_losses_from_fires-ENFR.csv\",encoding=\"latin\")\n"
   ]
  },
  {
   "cell_type": "code",
   "execution_count": null,
   "metadata": {},
   "outputs": [],
   "source": [
    "# MILESTONE 3\n",
    "## Task 1 Exploratory Data Analysis (EDA)\n",
    "## Displaying number of row and columns, and general description for each dataset"
   ]
  },
  {
   "cell_type": "code",
   "execution_count": null,
   "metadata": {},
   "outputs": [],
   "source": [
    "\n",
    "\n",
    "print(f\"Number of rows and columns for area_burned_by_cause:  {area_burned_by_cause.shape}\")\n",
    "print(f\"Columns in the dataset: {area_burned_by_cause.columns}\")\n",
    "print(area_burned_by_cause.describe().T)\n",
    "area_burned_by_cause.describe(include='object').T\n"
   ]
  },
  {
   "cell_type": "code",
   "execution_count": null,
   "metadata": {},
   "outputs": [],
   "source": [
    "print(f\"Number of rows and columns for number_of_fires_by_cause:  {number_of_fires_by_cause.shape}\")\n",
    "print(f\"Columns in the dataset: {number_of_fires_by_cause.columns}\")\n",
    "print(number_of_fires_by_cause.describe().T)\n",
    "number_of_fires_by_cause.describe(include='object').T\n",
    "\n"
   ]
  },
  {
   "cell_type": "code",
   "execution_count": null,
   "metadata": {},
   "outputs": [],
   "source": [
    "print(f\"Number of rows and columns for area_burned_by_fire_size:  {area_burned_by_fire_size.shape}\")\n",
    "print(f\"Columns in the dataset: {area_burned_by_fire_size.columns}\")\n",
    "print(area_burned_by_fire_size.describe().T)\n",
    "area_burned_by_fire_size.describe(include='object').T\n"
   ]
  },
  {
   "cell_type": "code",
   "execution_count": null,
   "metadata": {},
   "outputs": [],
   "source": [
    "print(f\"Number of rows and columns for number_of_fires_by_fire_size:  {number_of_fires_by_fire_size.shape}\")\n",
    "print(f\"Columns in the dataset: {number_of_fires_by_fire_size.columns}\")\n",
    "print(number_of_fires_by_fire_size.describe().T)\n",
    "number_of_fires_by_fire_size.describe(include='object').T\n",
    "\n"
   ]
  },
  {
   "cell_type": "code",
   "execution_count": null,
   "metadata": {},
   "outputs": [],
   "source": [
    "print(f\"Number of rows and columns for area_burned_by_month:  {area_burned_by_month.shape}\")\n",
    "print(f\"Columns in the dataset: {area_burned_by_month.columns}\")\n",
    "print(area_burned_by_month.describe().T)\n",
    "area_burned_by_month.describe(include='object').T"
   ]
  },
  {
   "cell_type": "code",
   "execution_count": null,
   "metadata": {},
   "outputs": [],
   "source": [
    "print(f\"Number of rows and columns for number_of_fires_by_month:  {number_of_fires_by_month.shape}\")\n",
    "print(f\"Columns in the dataset: {number_of_fires_by_month.columns}\")\n",
    "print(number_of_fires_by_month.describe().T)\n",
    "number_of_fires_by_month.describe(include='object').T"
   ]
  },
  {
   "cell_type": "code",
   "execution_count": null,
   "metadata": {},
   "outputs": [],
   "source": [
    "## Task 2 & 3: ##\n",
    "## Load in File and process to obtain clean datasets"
   ]
  },
  {
   "cell_type": "code",
   "execution_count": null,
   "metadata": {},
   "outputs": [],
   "source": [
    "import project_functions2 as p2\n",
    "\n"
   ]
  },
  {
   "cell_type": "code",
   "execution_count": null,
   "metadata": {},
   "outputs": [],
   "source": [
    "file1 ='../data/raw/NFD-Area_burned_by_cause_class-ENFR.csv'\n",
    "Area_by_cause = p2.raw(file1)\n",
    "\n",
    "file2 ='../data/raw/NFD-Number_of_fires_by_cause_class-ENFR.csv'\n",
    "Number_by_cause = p2.raw(file2)\n",
    "\n",
    "\n",
    "# check = pd.concat([Area_by_cause,Number_by_cause['Number']],axis='columns')\n",
    "\n",
    "# check\n",
    "\n",
    "combined = p2.intial_process(Area_by_cause,Number_by_cause)\n",
    "\n",
    "combined = p2.drop_origine(combined)\n",
    "\n",
    "combined.to_csv(\"../data/processed/Fires_by_cause.csv\",index=None)\n",
    "\n",
    "combined"
   ]
  },
  {
   "cell_type": "code",
   "execution_count": null,
   "metadata": {},
   "outputs": [],
   "source": [
    "file3 = '../data/raw/NFD-Area_burned_by_fire_size_class-ENFR.csv'\n",
    "Area_by_firesize = p2.raw(file3)\n",
    "\n",
    "file4 = \"../data/raw/NFD-Number_of_fires_by_fire_size_class-ENFR.csv\"\n",
    "Number_by_firesize = p2.raw(file4)\n",
    "\n",
    "combined2 = p2.intial_process(Area_by_firesize,Number_by_firesize)\n",
    "\n",
    "combined2 = p2.drop_french_firesize(combined2)\n",
    "\n",
    "combined2.to_csv(\"../data/processed/Fires_by_size_class.csv\",index=None)\n",
    "\n",
    "combined2"
   ]
  },
  {
   "cell_type": "code",
   "execution_count": null,
   "metadata": {},
   "outputs": [],
   "source": [
    "file5 = \"../data/raw/NFD-Area_burned_by_month-ENFR.csv\"\n",
    "Area_by_month = p2.raw(file5)\n",
    "\n",
    "file6 = \"../data/raw/NFD-Number_of_fires_by_month-ENFR.csv\"\n",
    "Number_by_month = p2.raw(file6)\n",
    "\n",
    "\n",
    "combined3 =  p2.intial_process(Area_by_month,Number_by_month)\n",
    "\n",
    "combined3 = p2.drop_mois(combined3)\n",
    "\n",
    "combined3.to_csv(\"../data/processed/Fires_by_month.csv\",index=None)\n",
    "\n",
    "combined3"
   ]
  },
  {
   "cell_type": "code",
   "execution_count": null,
   "metadata": {},
   "outputs": [],
   "source": []
  }
 ],
 "metadata": {
  "kernelspec": {
   "display_name": "Python 3 (ipykernel)",
   "language": "python",
   "name": "python3"
  },
  "language_info": {
   "codemirror_mode": {
    "name": "ipython",
    "version": 3
   },
   "file_extension": ".py",
   "mimetype": "text/x-python",
   "name": "python",
   "nbconvert_exporter": "python",
   "pygments_lexer": "ipython3",
   "version": "3.9.5"
  }
 },
 "nbformat": 4,
 "nbformat_minor": 4
}
