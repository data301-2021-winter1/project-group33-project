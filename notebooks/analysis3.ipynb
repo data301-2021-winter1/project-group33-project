{
 "cells": [
  {
   "cell_type": "markdown",
   "source": [
    "# Andrew Kang"
   ],
   "metadata": {}
  },
  {
   "cell_type": "markdown",
   "source": [
    "## Research question/interests\r\n",
    "\r\n",
    "Andrew Kang: It is quite a common sense that any fire incidence should be treated as early as possible. However, in many cases due to varies reason a wildfire may not be discovered or treated at its earliest stage.  In my own prediction, if there are a massive number of fires happening in a relatively short period time, the fire department will be exhausted and overwhelmed, which will be unable to responds to some of the fire right away(after the fire was discovered). In the data set, this prediction should appear in the data set as when the number of fire in each month goes up, the average amount of area burned by each fire (number of fire/total area burned in the same month) would also goes up. If this prediction happen to be true, then it would means that the fire department need more crew, and the corresponding solution would be hire more crew in order to put down the fire quicker."
   ],
    "import numpy as np\n",
    "import pandas as pd\n",
   "metadata": {}
  }
 ],
 "metadata": {
  "orig_nbformat": 4,
  "language_info": {
   "name": "plaintext"
  }
 },
 "nbformat": 4,
 "nbformat_minor": 2
}
