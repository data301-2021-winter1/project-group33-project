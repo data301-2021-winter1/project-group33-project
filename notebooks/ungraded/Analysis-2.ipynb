{
 "cells": [
  {
   "cell_type": "code",
   "execution_count": 1,
   "id": "7d589fd6-578d-4ce8-8228-ce25a53ab61d",
   "metadata": {},
   "outputs": [],
   "source": [
    "# Salman\n",
    "# practice getting the data directly from the website"
   ]
  },
  {
   "cell_type": "code",
   "execution_count": 5,
   "id": "88d454e5-430b-4ab2-b79e-80da5a645327",
   "metadata": {},
   "outputs": [],
   "source": [
    "import pandas as pd\n",
    "\n",
    "Number_of_fires_by_cause = pd.read_csv(\"http://nfdp.ccfm.org/download/data/csv/NFD%20-%20Number%20of%20fires%20by%20cause%20class%20-%20EN%20FR.csv\", encoding = \"latin\")\n",
    "\n",
    "Area_burned_by_cause = pd.read_csv(\"http://nfdp.ccfm.org/download/data/csv/NFD%20-%20Area%20burned%20by%20cause%20class%20-%20EN%20FR.csv\", encoding=\"latin\")\n",
    "\n",
    "Number_of_fires_by_month = pd.read_csv(\"http://nfdp.ccfm.org/download/data/csv/NFD%20-%20Number%20of%20fires%20by%20month%20-%20EN%20FR.csv\", encoding=\"latin\")\n",
    "\n",
    "Area_burned_by_month = pd.read_csv(\"http://nfdp.ccfm.org/download/data/csv/NFD%20-%20Area%20burned%20by%20month%20-%20EN%20FR.csv\", encoding=\"latin\")\n",
    "\n",
    "Number_of_fires_by_fire_size = pd.read_csv(\"http://nfdp.ccfm.org/download/data/csv/NFD%20-%20Number%20of%20fires%20by%20fire%20size%20class%20-%20EN%20FR.csv\", encoding=\"latin\")\n",
    "\n",
    "Area_burned_by_fire_size = pd.read_csv(\"http://nfdp.ccfm.org/download/data/csv/NFD%20-%20Area%20burned%20by%20fire%20size%20class%20-%20EN%20FR.csv\", encoding=\"latin\")\n",
    "\n",
    "Property_damage = pd.read_csv(\"http://nfdp.ccfm.org/download/data/csv/NFD%20-%20Property%20losses%20from%20fires%20-%20EN%20FR.csv\", encoding=\"latin\")"
   ]
  },
  {
   "cell_type": "code",
   "execution_count": null,
   "id": "ca5a3718-9062-4940-aebd-d75081ca1164",
   "metadata": {},
   "outputs": [],
   "source": []
  }
 ],
 "metadata": {
  "kernelspec": {
   "display_name": "Python 3 (ipykernel)",
   "language": "python",
   "name": "python3"
  },
  "language_info": {
   "codemirror_mode": {
    "name": "ipython",
    "version": 3
   },
   "file_extension": ".py",
   "mimetype": "text/x-python",
   "name": "python",
   "nbconvert_exporter": "python",
   "pygments_lexer": "ipython3",
   "version": "3.9.5"
  }
 },
 "nbformat": 4,
 "nbformat_minor": 5
}
